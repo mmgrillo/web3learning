{
  "nbformat": 4,
  "nbformat_minor": 0,
  "metadata": {
    "colab": {
      "provenance": []
    },
    "kernelspec": {
      "name": "python3",
      "display_name": "Python 3"
    },
    "language_info": {
      "name": "python"
    }
  },
  "cells": [
    {
      "cell_type": "code",
      "execution_count": 3,
      "metadata": {
        "colab": {
          "base_uri": "https://localhost:8080/"
        },
        "id": "ZLZGctny9u6W",
        "outputId": "608fdd61-66b7-40f9-92af-94fd4c8b23f4"
      },
      "outputs": [
        {
          "output_type": "stream",
          "name": "stdout",
          "text": [
            "Looking in indexes: https://pypi.org/simple, https://us-python.pkg.dev/colab-wheels/public/simple/\n",
            "Requirement already satisfied: web3 in /usr/local/lib/python3.7/dist-packages (5.31.1)\n",
            "Requirement already satisfied: eth-abi<3.0.0,>=2.0.0b6 in /usr/local/lib/python3.7/dist-packages (from web3) (2.2.0)\n",
            "Requirement already satisfied: jsonschema<5,>=3.2.0 in /usr/local/lib/python3.7/dist-packages (from web3) (4.3.3)\n",
            "Requirement already satisfied: websockets<10,>=9.1 in /usr/local/lib/python3.7/dist-packages (from web3) (9.1)\n",
            "Requirement already satisfied: eth-rlp<0.3 in /usr/local/lib/python3.7/dist-packages (from web3) (0.2.1)\n",
            "Requirement already satisfied: ipfshttpclient==0.8.0a2 in /usr/local/lib/python3.7/dist-packages (from web3) (0.8.0a2)\n",
            "Requirement already satisfied: hexbytes<1.0.0,>=0.1.0 in /usr/local/lib/python3.7/dist-packages (from web3) (0.3.0)\n",
            "Requirement already satisfied: typing-extensions<5,>=3.7.4.1 in /usr/local/lib/python3.7/dist-packages (from web3) (4.1.1)\n",
            "Requirement already satisfied: aiohttp<4,>=3.7.4.post0 in /usr/local/lib/python3.7/dist-packages (from web3) (3.8.3)\n",
            "Requirement already satisfied: requests<3.0.0,>=2.16.0 in /usr/local/lib/python3.7/dist-packages (from web3) (2.23.0)\n",
            "Requirement already satisfied: eth-utils<2.0.0,>=1.9.5 in /usr/local/lib/python3.7/dist-packages (from web3) (1.9.5)\n",
            "Requirement already satisfied: eth-hash[pycryptodome]<1.0.0,>=0.2.0 in /usr/local/lib/python3.7/dist-packages (from web3) (0.5.0)\n",
            "Requirement already satisfied: eth-account<0.6.0,>=0.5.9 in /usr/local/lib/python3.7/dist-packages (from web3) (0.5.9)\n",
            "Requirement already satisfied: lru-dict<2.0.0,>=1.1.6 in /usr/local/lib/python3.7/dist-packages (from web3) (1.1.8)\n",
            "Requirement already satisfied: protobuf==3.19.5 in /usr/local/lib/python3.7/dist-packages (from web3) (3.19.5)\n",
            "Requirement already satisfied: eth-typing<3.0.0,>=2.0.0 in /usr/local/lib/python3.7/dist-packages (from web3) (2.3.0)\n",
            "Requirement already satisfied: multiaddr>=0.0.7 in /usr/local/lib/python3.7/dist-packages (from ipfshttpclient==0.8.0a2->web3) (0.0.9)\n",
            "Requirement already satisfied: charset-normalizer<3.0,>=2.0 in /usr/local/lib/python3.7/dist-packages (from aiohttp<4,>=3.7.4.post0->web3) (2.1.1)\n",
            "Requirement already satisfied: asynctest==0.13.0 in /usr/local/lib/python3.7/dist-packages (from aiohttp<4,>=3.7.4.post0->web3) (0.13.0)\n",
            "Requirement already satisfied: frozenlist>=1.1.1 in /usr/local/lib/python3.7/dist-packages (from aiohttp<4,>=3.7.4.post0->web3) (1.3.1)\n",
            "Requirement already satisfied: yarl<2.0,>=1.0 in /usr/local/lib/python3.7/dist-packages (from aiohttp<4,>=3.7.4.post0->web3) (1.8.1)\n",
            "Requirement already satisfied: attrs>=17.3.0 in /usr/local/lib/python3.7/dist-packages (from aiohttp<4,>=3.7.4.post0->web3) (22.1.0)\n",
            "Requirement already satisfied: async-timeout<5.0,>=4.0.0a3 in /usr/local/lib/python3.7/dist-packages (from aiohttp<4,>=3.7.4.post0->web3) (4.0.2)\n",
            "Requirement already satisfied: aiosignal>=1.1.2 in /usr/local/lib/python3.7/dist-packages (from aiohttp<4,>=3.7.4.post0->web3) (1.2.0)\n",
            "Requirement already satisfied: multidict<7.0,>=4.5 in /usr/local/lib/python3.7/dist-packages (from aiohttp<4,>=3.7.4.post0->web3) (6.0.2)\n",
            "Requirement already satisfied: parsimonious<0.9.0,>=0.8.0 in /usr/local/lib/python3.7/dist-packages (from eth-abi<3.0.0,>=2.0.0b6->web3) (0.8.1)\n",
            "Requirement already satisfied: bitarray<3,>=1.2.1 in /usr/local/lib/python3.7/dist-packages (from eth-account<0.6.0,>=0.5.9->web3) (2.6.0)\n",
            "Requirement already satisfied: eth-keys<0.4.0,>=0.3.4 in /usr/local/lib/python3.7/dist-packages (from eth-account<0.6.0,>=0.5.9->web3) (0.3.4)\n",
            "Requirement already satisfied: eth-keyfile<0.6.0,>=0.5.0 in /usr/local/lib/python3.7/dist-packages (from eth-account<0.6.0,>=0.5.9->web3) (0.5.1)\n",
            "Requirement already satisfied: rlp<3,>=1.0.0 in /usr/local/lib/python3.7/dist-packages (from eth-account<0.6.0,>=0.5.9->web3) (2.0.1)\n",
            "Requirement already satisfied: pycryptodome<4,>=3.6.6 in /usr/local/lib/python3.7/dist-packages (from eth-hash[pycryptodome]<1.0.0,>=0.2.0->web3) (3.15.0)\n",
            "Requirement already satisfied: cytoolz<1.0.0,>=0.9.0 in /usr/local/lib/python3.7/dist-packages (from eth-keyfile<0.6.0,>=0.5.0->eth-account<0.6.0,>=0.5.9->web3) (0.12.0)\n",
            "Requirement already satisfied: toolz>=0.8.0 in /usr/local/lib/python3.7/dist-packages (from cytoolz<1.0.0,>=0.9.0->eth-keyfile<0.6.0,>=0.5.0->eth-account<0.6.0,>=0.5.9->web3) (0.12.0)\n",
            "Requirement already satisfied: pyrsistent!=0.17.0,!=0.17.1,!=0.17.2,>=0.14.0 in /usr/local/lib/python3.7/dist-packages (from jsonschema<5,>=3.2.0->web3) (0.18.1)\n",
            "Requirement already satisfied: importlib-resources>=1.4.0 in /usr/local/lib/python3.7/dist-packages (from jsonschema<5,>=3.2.0->web3) (5.10.0)\n",
            "Requirement already satisfied: importlib-metadata in /usr/local/lib/python3.7/dist-packages (from jsonschema<5,>=3.2.0->web3) (4.13.0)\n",
            "Requirement already satisfied: zipp>=3.1.0 in /usr/local/lib/python3.7/dist-packages (from importlib-resources>=1.4.0->jsonschema<5,>=3.2.0->web3) (3.10.0)\n",
            "Requirement already satisfied: netaddr in /usr/local/lib/python3.7/dist-packages (from multiaddr>=0.0.7->ipfshttpclient==0.8.0a2->web3) (0.8.0)\n",
            "Requirement already satisfied: base58 in /usr/local/lib/python3.7/dist-packages (from multiaddr>=0.0.7->ipfshttpclient==0.8.0a2->web3) (2.1.1)\n",
            "Requirement already satisfied: six in /usr/local/lib/python3.7/dist-packages (from multiaddr>=0.0.7->ipfshttpclient==0.8.0a2->web3) (1.15.0)\n",
            "Requirement already satisfied: varint in /usr/local/lib/python3.7/dist-packages (from multiaddr>=0.0.7->ipfshttpclient==0.8.0a2->web3) (1.0.2)\n",
            "Requirement already satisfied: urllib3!=1.25.0,!=1.25.1,<1.26,>=1.21.1 in /usr/local/lib/python3.7/dist-packages (from requests<3.0.0,>=2.16.0->web3) (1.24.3)\n",
            "Requirement already satisfied: chardet<4,>=3.0.2 in /usr/local/lib/python3.7/dist-packages (from requests<3.0.0,>=2.16.0->web3) (3.0.4)\n",
            "Requirement already satisfied: idna<3,>=2.5 in /usr/local/lib/python3.7/dist-packages (from requests<3.0.0,>=2.16.0->web3) (2.10)\n",
            "Requirement already satisfied: certifi>=2017.4.17 in /usr/local/lib/python3.7/dist-packages (from requests<3.0.0,>=2.16.0->web3) (2022.9.24)\n"
          ]
        },
        {
          "output_type": "execute_result",
          "data": {
            "text/plain": [
              "False"
            ]
          },
          "metadata": {},
          "execution_count": 3
        }
      ],
      "source": [
        "!pip install web3\n",
        "from web3 import Web3\n",
        "providerURL = '<https://mainnet.infura.io/v3/8af6fefff74548cea40b59af1fdfa542>'\n",
        "w3 = Web3(Web3.HTTPProvider(providerURL))\n",
        "w3.isConnected()"
      ]
    },
    {
      "cell_type": "code",
      "source": [
        "from web3 import Web3\n",
        "providerURL = 'https://mainnet.infura.io/v3/8af6fefff74548cea40b59af1fdfa542'\n",
        "w3 = Web3(Web3.HTTPProvider(providerURL))\n",
        "latestBlock = w3.eth.get_block('latest')\n",
        "print(latestBlock)\n",
        "wallet = w3.toChecksumAddress('0x4d376B18ddE95D10eC2502EeC25C6e03c6A54D4E')\n",
        "print(w3.eth.get_balance(wallet))"
      ],
      "metadata": {
        "colab": {
          "base_uri": "https://localhost:8080/"
        },
        "id": "9qbyCqHG_IwR",
        "outputId": "1dd34f58-b2df-4319-cc95-694bd1238d75"
      },
      "execution_count": 6,
      "outputs": [
        {
          "output_type": "stream",
          "name": "stdout",
          "text": [
            "AttributeDict({'baseFeePerGas': 17369194580, 'difficulty': 0, 'extraData': HexBytes('0x6265617665726275696c642e6f7267'), 'gasLimit': 30000000, 'gasUsed': 28166873, 'hash': HexBytes('0xb1e12f5a6312ff1a29dfae9d1c9c34938efbee1c15222fb83d968eb1c633a6d3'), 'logsBloom': HexBytes('0xa8221d805a077a35fda80db9e558fa3b206f8c3b88ba51fc64d3397e7d4cb1bf948d1de289880166489615249941058617ea62522b7e7c0337d368888f7b6f1a96b794d7c920260cfdca1b4fef7c62a106ebb8d1295973ce16fd74d9d9455ced0f8115056e5ed2e5f7d1d4bbee6ac8c2a2ff2ef359747c6412c35bf2287a9e2dcf41f555612672c9216925c87f2935acd8035ff1677a86acf46da37f529c459dcf99f17bbc0670b4abb34af4c983e47c1cc4414736da386b816faf634c19cdf84f008eef642909e2471fde4c4b9e732753f2f053563fb3fdf815d9a3e7127a29a6f2f4e80acd4a0267259f446483c877fc61c08260e93446644e2b58f9e7f6b3'), 'miner': '0x95222290DD7278Aa3Ddd389Cc1E1d165CC4BAfe5', 'mixHash': HexBytes('0xf6b11745b0a083470d95e21a3948a9d3277541d2119777b5e661b9c6ba7b16a4'), 'nonce': HexBytes('0x0000000000000000'), 'number': 15891614, 'parentHash': HexBytes('0xe07e2b695cfeea33e88cae8b951adf1cc9388f2cbe40e76e63cc10f633854c71'), 'receiptsRoot': HexBytes('0x541b33c61a200921bbeae318ea515410b8a20e4d8af87e59d95308589de88967'), 'sha3Uncles': HexBytes('0x1dcc4de8dec75d7aab85b567b6ccd41ad312451b948a7413f0a142fd40d49347'), 'size': 82018, 'stateRoot': HexBytes('0xb2130f22fd63ff28e5b6a0fda8fb1b8fd66e2c6fbf03aca619061fb86210f0b8'), 'timestamp': 1667504159, 'totalDifficulty': 58750003716598352816469, 'transactions': [HexBytes('0x7a9bda75cf713b78f75a97f45a073f3d26862fd29e884a636f8e49dc69b62e35'), HexBytes('0xf3f83872fb40aedcc6ee763989cdf53f8a63e55f7a4f2fc478b18099cdcf81bc'), HexBytes('0x659a2c73e58f4d7b56054c480f1c7ca2c5484cbf9403ed1218ab99e959089aac'), HexBytes('0x5ba763a60039f67c8399c8b0ecf624aa175f0f146f79c349fa84647bb66033c8'), HexBytes('0x7ce7cef685628b9d845dfaeae7169f81704d8cf718d64d0be54dcbe76e15120f'), HexBytes('0xb364718de213ab9663b6af57f3c4fce3e8b67d4809ec4c1868e917eb3a256721'), HexBytes('0xd6f7f27ab3fb4cc9c2fe7867ab12da97ae893d2a3b4d6e729ec6b8c3572024d8'), HexBytes('0x2791c7cedfb3b07be1e7789cbc77f2ce3931b7c55d0bb4410d2416e6e2b83eff'), HexBytes('0x49e71e421f8f96d8584f20e3a275e174ad0b9d179709011f88df6770c0dc0131'), HexBytes('0x0d80e418beffc82bf7fbaae961b020a6655809136eab340eb1c23c30ca58a5c5'), HexBytes('0xa9a50037801bd032dc01e07acd76cda03807f8b68fa8d01c0c5fba44808e897e'), HexBytes('0xbdea75178772624e2dd8e0622e89059d6b86543145d7592ebfaa3cb8b9bcd439'), HexBytes('0x6c1e576b36201b1952906b97362cdd8f08b1d1ed8543ab8b999defe5fa744b87'), HexBytes('0xeeacf01ec147278a433bcdf24d64f9390a705232f52ed199a7854a7f8190700d'), HexBytes('0xcf96f85fdff422136aec421b66ebf0af5b0ddd8a1c265a59db8894a4fa0e9e76'), HexBytes('0x892f7a54737e97e5076c6fba1bfc2ad0069504741a32a6edd490b3109cf1383d'), HexBytes('0xfdc0634fe23e4e5ff73626a38c9b98436efcdc3d82cf512dd34a36e5935dfa2a'), HexBytes('0xa5425ab00984e14ec679ec0833578b2092a12ff1882a4f16f5fe3f2af0f5279c'), HexBytes('0xa82f0e81d2e6a7db4d3cba4572d1bf0d915f49792fb5f8474d6cbce9b1a8bf16'), HexBytes('0x8c117d9619e23e72562fafa038e1b89122e8f0ea2ae62ea839af34c986f118b2'), HexBytes('0xbf6ce7d598f80aca4bbdce3e4ad254c1afab1cc1f6f09eac73480ceea224d57d'), HexBytes('0xd6b4f6a948211031f3125a58e1c96d2f01b37403e90f19fd0aa1f543c49fd3a7'), HexBytes('0x8c8f109e45e4e54353c8bb09b239ac78143b1c536221028a9df4a59e0d72d188'), HexBytes('0xe94d9ff854edca9b386080a087ed08ec3db28224cd6e474bd1c283fdc0106228'), HexBytes('0x32460c0d7c21e0b186d42dbfbbdf315a9d5f4d0d80ad9821306a35b5918481a0'), HexBytes('0xf08e15ba62e0bcce4521abd9d92c0193daeb747577a713fd26b66081a91c0d2a'), HexBytes('0x7c43c80c59fb43fabf3e08cac9a7c47ab2e20019b2a57656751dd4d919e09de6'), HexBytes('0xca0df0cb41cc7a7dadf03f032908ba3af9a2e6d623f50e12bd6190f92790fe72'), HexBytes('0xdc2dc0c1a3b7b1058a1fb0996b598855675c72fa72f50c826f7139faacdd6beb'), HexBytes('0x1b7a29d816f571b4e6e49b1f8c6889dbd2cda4bac3e45f0d14afa8797f2229c6'), HexBytes('0x15ebcf8a5b09c585bcac2b3743a0dffe488fd8b32f1ab050af7e81e05cfb13c3'), HexBytes('0x145fece5044fd21780098bcf7fe3d5417af6bb39a59210e019ab9eea7ca12dda'), HexBytes('0xddb607aca027b3fa3a1687d04f6fb74d6d7690ff724cd672b5d40d2eda26c115'), HexBytes('0x398576b76972e79793b3ec965829b9da00a8ca79ab051e77c6cd38b166ce4ea6'), HexBytes('0x095f71cdd49d3c1dff3cc19088c01d336014c72a8007709a28230252eeea2e57'), HexBytes('0x06124de2219f00306db511199fdb3f47b11c213bf2cf03996b347aaf51dba8c8'), HexBytes('0x3eb63a151f10dc2357763c83f64736379758550b11b5eed687e7b52f9b95dec3'), HexBytes('0x6a5e254ea5eedcd0de80cd16fe9b5f9ea166cb76ef4ad6be9e6a06d8e037fc1f'), HexBytes('0x1d3fd7601cdb370f6129e865fc75a4978fd933f378f77fb8065d0a63b351f3cb'), HexBytes('0xc248869694e278b1a2402325ea6243c336ac77189e086a60426d3333639a787f'), HexBytes('0x2d77cd5e917b1bac39946833363b8bd10c38d5ea7ad84f4dccf140143e1264c8'), HexBytes('0x8655bf7ce02fbfee349505de0bb76167bf30863698eacda2bd3617ebfa4cd019'), HexBytes('0x0619ada532c33dfc0e8083525c6c725d8b3d70d17b68ab2801f888dd1dd7216b'), HexBytes('0x020520ceab5a4a783e47391a9c9953ac1321fc000ec4cf043d3dec423a717860'), HexBytes('0xb58392ba18a0f5cb91b32778e4076750ab6b0e9a118248631715621c1feb4e97'), HexBytes('0xa9fc574846ef22319463bd585fbf11bf41bbc038d88c5a38aa384c6500a0c07d'), HexBytes('0xd910657be24a7e59485e990e3344df2c06f4e41882a934b66adc62f8a47a14d9'), HexBytes('0xcb3db43ba24a0fc458f769958e77790aa34004faf11d7f516c8b5646c2c52e88'), HexBytes('0xd1e9e180c5effa13b38d73053bbb601277216674089d1e65a3b39262173edab3'), HexBytes('0x20285967d03753e7e79a19a1b27d8617951bc8eec83c8e614e0224297a12317d'), HexBytes('0x356dfe6648517a07ac3748ac1fc60c9e5ffe99f404e572865d7fc412df606043'), HexBytes('0x5f362bfd917a5b35596f8b670a3f761878bfea040cbf08dd654aebe4db46612a'), HexBytes('0xec9c7398aef7d3796f7d1a8589673a954d0d4185bec2af317b519a72a531bb7d'), HexBytes('0x3c8f1dd5834ede01aaf9515b140b117e6d0d33042602e4540c078d959b5ec266'), HexBytes('0x7370632091f36e855f29334e73312f35345ae12d9119834b9aea558aaedae04e'), HexBytes('0x1d7e17a83fdc2798534a309d52d8f5e0108ed8c502abb43cf5712c0e58aad9c0'), HexBytes('0xcecb2611be163ddd3e6b9d7f222624045eadd07610d2d0733b70e706297ce3f8'), HexBytes('0xa52fbdfe5fe11efbbcdb089b6567d8f9ee4a7523088f60925eb8a32c387f138d'), HexBytes('0xf84b3cccb776d5a0fed71f6a19a391489fa2770ac360404d5454a61b81a4ecc9'), HexBytes('0xe786a9fb799a1f29c78fdc6543defac5f3d089b15f80fb883244e6d1860a7c74'), HexBytes('0x88612d16b725121b43e07dc7866e624cac953c3fe82e2b924beca9e0e8c45633'), HexBytes('0xc75a0bceb3ed12703b479da114427fc0aa28e1a9f4ef00e968dc540961619331'), HexBytes('0x3359c1e914ed161023231de283b1bdf27d351ce74df8047b6ba5ef800d61409d'), HexBytes('0x14ef8305c8521265c82ba0f90877287faff0769953f1e4fe9d5678f2e54bd56b'), HexBytes('0x495f65b4a9db3f92d216ed12e55eee2be18d1397157c5f4af252efa013462ed6'), HexBytes('0x112962485b91a12c46d785ad7938df9442c5930b3b80bbd712b3d4591408d27a'), HexBytes('0xf97c3f0278558e352eb185e6359299d6746511da60c830d4550253f5eedbb99f'), HexBytes('0x0c20ea9859a4b7775c0776fe087b3d0c3ff109abe9f07ff3daf4a447fc315b44'), HexBytes('0x944b8026383a34ee8155b8d683aa91399923df58b3d03cb55daec6ee2cf2536f'), HexBytes('0xa7aa802894162cc8605d9f2844497ab2b9235acd1fe380e0dcd84b9c690e0514'), HexBytes('0x3fa23b3efb21f990eed81a979c497e5135b861eba139871c71220f52bb744f61'), HexBytes('0x7bf749366ac4a4d1b5c445e98fb581677493b52331b542829f3b7334b1257566'), HexBytes('0x18a77ad6bbc0c16f4d84a4c6eb916104ca5a687da9e1c9360577d33ef41f2b90'), HexBytes('0x079c0360669a80ea9a9e2c02f2f6f4f8fa9041979a33b6da5b976552c8b044d7'), HexBytes('0x6f88c59c39436b00643549e68a03cc99253709fdb5836592541ca9ede49022cc'), HexBytes('0x7db83d71d525ca9d09ef7395f983e9d4821488b34e0ec246558547b2ee36f81f'), HexBytes('0x242558591362ce462348c8d454cef1c805bf4a6009fce30c2a7b72c7d4fab474'), HexBytes('0xf4ad9b48ab42f5b71cd88f763288963075c791a9725500d3fb03ffaba38f5a42'), HexBytes('0x4ef4fb3df3a93a216c68547d8eee86bccb6cad1e98c33b5ff61f0caaac1f16d8'), HexBytes('0xf0f2433d3669dc05cc35a479d5090c870984dcafbc334ec093e80eec47f52acd'), HexBytes('0xccc7cfb5079693078f40fa110c22104cc190b2d3e0f18228e7e55fa7b2b47b66'), HexBytes('0xcd510e87c84ea8411a714133dee9839189ef51165ed5c9558175b251177eaa5b'), HexBytes('0xdd604c9851ae975528bf18f60d1a593124ce455a12baa7a2827967fdce4c96f4'), HexBytes('0xca4f8bf56206ee2149a1a393ad3efd3a1a7265beb50d40384dbaa791528e3083'), HexBytes('0x89bf872d1fd5118addb666c70efc28a7878bfab2c97574d1a54e275efe775742'), HexBytes('0x9d33005534e30e1af3df4b3006df152d27aada4f47b006b8a5ed6980b9ce1c9c'), HexBytes('0x68e0669f270671d3685c2f7fb9c8a47ea82ba1b221d46f3b01412e947ad726e5'), HexBytes('0xd3b795f6f2c2d46a95ab1b847da1ee616bd72eb7e868bcb29e4e8e470469dcc7'), HexBytes('0x0714959a2487bc831e5aa7f3a703cf72b1dd9a5772846c5e7a20c662bdfdff1f'), HexBytes('0x127f6eac5d1bf6b8bf04212948a230ca51df2110c10fe85981fa0cace494a040'), HexBytes('0x91205ec15075b841e24bac55038a3118b99f3b3f7bc775e4d3f6664d8527379b'), HexBytes('0x986d5eb87d76143b47dd04abe288e7bab0f532feac525682d21a896a3cecdeef'), HexBytes('0xbcd876688908e07d12695c490685ad4306728be95d616f6d6a1c6e3544df6cea'), HexBytes('0xf2a28c0019e10c68f9ae0fea8901b7f3c0389f4a48bb9646f85073cadd63c48d'), HexBytes('0x78cd71bcbb32e84bf79778753a7a947bc1bbc33eacf6bc1ca305ccc0d5829bba'), HexBytes('0xd971ec079ff30a53e338561874bffe3af5161edd8293d0f31d1ed76daf49f4ec'), HexBytes('0x7ad6c96c2969319cc8c4992684d7bbef0a5282a20b5de5f549fe1e858415546e'), HexBytes('0x8877f418cc98054561868aec8e9dc371937a37e8592994897a3062c95bfd5d48'), HexBytes('0x92979f53fac1987a16450b890c76cf82005a5ff47ed87fa2d6a3c815547de713'), HexBytes('0xb37d9ffc227c4091e5fe58e60d12f5687ad41ed0ca7d8364114a865c605d745a'), HexBytes('0xa267edfa108ee568cf5bb4047c6110aebd3521f38f9684825042b19a910113a7'), HexBytes('0xc733abefbd0f340f29b9398af75c80af3cf92ce66dc31e3f10e0592c7d4f47e0'), HexBytes('0xec0ec563eff44bd3cf13f3ac44a2374d57c11056e7cf7a95e06747db4f036782'), HexBytes('0x7c3adc68b93cb05b2f3b3c7825d65f098cd9cd16d954d72ba23dc7a22ed02aae'), HexBytes('0xbe71bdf2152cc56a0768e75ac3c614e75b89fca7ccb10b9bc09dd61a4fde16ab'), HexBytes('0x6a4de5bfbefa5c2100c6105d478015612289733041318b3fcb156fd253618315'), HexBytes('0x2666b65f582914626fc461a292878665221b8ad1f2674342ce9a798ff6b2f7f8'), HexBytes('0x5d27908e061de1350e1b1a98ea70a837b004cac99e9d5d28841d1037091f7d28'), HexBytes('0x4790579928e8014f1967ae31dfd4f20f1f11dc8257418b716e33930a9812cb1a'), HexBytes('0xbb547102709ce635cad11fa18d96cb249c00597b5effc6069558d071d2dde180'), HexBytes('0x6c9a00cde3e9f40d974217ad29db0ff3915b041b6492d6f84f3653047c80998b'), HexBytes('0xce56cfd8926f65836f4293895fd879aa6efea85b92fbf9db96c23740961421eb'), HexBytes('0xaadc17e7e044e50a256ac5b62e4e21d5091910f2e923777c3441961dcb510d8b'), HexBytes('0x556bf05a39a0ea8bf5e33e6a1febcba0a578970cd0a2203a78737bfd8803e333'), HexBytes('0x9f4d627727e9faa610f4abbf43498af6bb27829664eaced990cfba0862da3e49'), HexBytes('0x4abc6ffe962dbef93701c717cdc524095c8bdc3502e57814478fb178d93af292'), HexBytes('0xbf5afc88353fc0e8fd03b04dcee72fc1e477b6228931a3e9f0325440361e4b2e'), HexBytes('0x1fd373275d3f3050bfae3e2b07015e110452a15fee3ee58bbd78597ec05e7479'), HexBytes('0x54fd7ae394a21ddca766e66aedbcf7c5053759b9057ef0cf872781c8c246c77b'), HexBytes('0x55eb4ec5a2a5af880a523569e16d2aa580975553825bfef48a4eb1a4d8ad357d'), HexBytes('0xa6e442eda2f2fe73960425e598b5eb32dc192eb65212a9d115b97fe5c041e647'), HexBytes('0x30e4d52aca0aca9a7c1aba5b88b02bf7b76d33ec0d13ccdf5a1dcec0d966478a'), HexBytes('0x61f67af2e1b77ac62068a7a4577133686718e4c6143ce7a521961dd1ad8f84c4'), HexBytes('0x68f455d349d59a4e14e414e2ed6878e2e317520c8cabf9e2b7230ac66132d580'), HexBytes('0x6c42320bc7295991b24d526afc5c71bb4da5a9f2a789249292ffce3fb0cff4bc'), HexBytes('0x3f6429abf5680d69a69783c7d80c2ae6299bb677c9024efa87ebbddba05acaa7'), HexBytes('0xb4fc6279b35766d833ab70891a87db7a3427e3857091ab288fed9e2f63d414e4'), HexBytes('0x00e273bb1869523bb145e44987f30bf772be4764d663781f6ff25a3cf57ee04f'), HexBytes('0x31965354e1419352fc8966ef537347e353cb49eb83300c1a61cf45f99be6b442'), HexBytes('0x9f583213ab6946bf45926854b35b0c19b2a9509bc847f6d5ab37d4d53dc4b0ed'), HexBytes('0x84cf7c86bc28ccc9fe5db4a878bee551363a33e8a138809ebfb1997a2b89e88b'), HexBytes('0x12260dda730b5d88f44e66ab2dba9c8fe1818fb6cc2d3b81086026190cbff2ea'), HexBytes('0xee284b2f159edf22ed83e2b13fa405b05026d3e327317d7832f01e34fcaf7fbb'), HexBytes('0x9be2c64b514d6aa12d8d8421c6c814b1787259732c7716ddd4704424ba545dc9'), HexBytes('0x8d2e927ebe974295f9a83ba25db743257ca4de7a31be848722201c2dcc78cc20'), HexBytes('0xaaeb26a3656df32ad40ce77cd30352190f8b01d6729f0a17fe0330f9d56fb3c9'), HexBytes('0xad0482e070eafe6520e06f159ff3664869fcfcd6ec5bfd53d5552c452c17a5c0'), HexBytes('0x4ca7a410986b2f83339e7dc6ec2d8999ae7f55b3058acff7171c2560649d895a'), HexBytes('0x3c5bfdd778c127d5f4691f5e29613926eac2872fd57859db6af26cf7519efd1f'), HexBytes('0x1a0169112790b750640fa95a187cd9c4acd98b606f74c7bf0ae36d4795c1260d'), HexBytes('0x2a15652f80a7b8d2a7881f74253600e24b877c2b5edae4ae989ff10e233e7e13'), HexBytes('0x0957c3ccc70281e9bcfcf8c7064683dd73d780cb0f7a6ec5583c4ee4f7677d17'), HexBytes('0xe48be34143a22f00ffbf1e98eff4b0af200979cb8ac01d14e307ad3b538556b6'), HexBytes('0x9939e8a4b3fe228e2da326fc2b02750cbc2e679f6957bdc92e0235097991ba68'), HexBytes('0xea5cd2dff15fbb34df32caf2a1db5bf929058b246bec4b4b6cd87a9b898d8a43'), HexBytes('0x3fb9ec14a628f1868c5700232bf64bdf210d84a96873c1790c7cbf38ed630b16'), HexBytes('0x75a298a74e02b785125359bfa0bf633b79f151a01239a1be656e8bd6bbe65ab5'), HexBytes('0x30b9a1d032c62c7da61fb9bf88f194f99b9946281af6ffae211f451ed8e2bb01'), HexBytes('0x4d300e8121f4f565ece47f89dade9a282bb8a72e77616cbe0f5ccd5469d44e1e'), HexBytes('0x899095c7ed69a3976c583bb017d6a1244697833abf79bfe77e14396ab68ebcfc'), HexBytes('0xb0f3c38b7134a6dc891270f1d99457deafafdd4d9998b59e808965ea83a282fa'), HexBytes('0x90c9de722f1df69f0f328e98c44a78172c20ba3a1597ff140d6ca94d44fbcd63')], 'transactionsRoot': HexBytes('0x56ce1b35a9592743ada17e5341f7e4688efdadf22da9187b19b541c586a2d0c0'), 'uncles': []})\n",
            "126368140479000\n"
          ]
        }
      ]
    },
    {
      "cell_type": "code",
      "source": [
        "#Activity 5 Interact with a smart contract\n",
        "from web3 import Web3\n",
        "\n",
        "providerURL = 'https://mainnet.infura.io/v3/8af6fefff74548cea40b59af1fdfa542' \n",
        "abi = '[{\"inputs\":[{\"internalType\":\"string\",\"name\":\"name\",\"type\":\"string\"},{\"internalType\":\"string\",\"name\":\"symbol\",\"type\":\"string\"},{\"internalType\":\"uint256\",\"name\":\"maxNftSupply\",\"type\":\"uint256\"},{\"internalType\":\"uint256\",\"name\":\"saleStart\",\"type\":\"uint256\"}],\"stateMutability\":\"nonpayable\",\"type\":\"constructor\"},{\"anonymous\":false,\"inputs\":[{\"indexed\":true,\"internalType\":\"address\",\"name\":\"owner\",\"type\":\"address\"},{\"indexed\":true,\"internalType\":\"address\",\"name\":\"approved\",\"type\":\"address\"},{\"indexed\":true,\"internalType\":\"uint256\",\"name\":\"tokenId\",\"type\":\"uint256\"}],\"name\":\"Approval\",\"type\":\"event\"},{\"anonymous\":false,\"inputs\":[{\"indexed\":true,\"internalType\":\"address\",\"name\":\"owner\",\"type\":\"address\"},{\"indexed\":true,\"internalType\":\"address\",\"name\":\"operator\",\"type\":\"address\"},{\"indexed\":false,\"internalType\":\"bool\",\"name\":\"approved\",\"type\":\"bool\"}],\"name\":\"ApprovalForAll\",\"type\":\"event\"},{\"anonymous\":false,\"inputs\":[{\"indexed\":true,\"internalType\":\"address\",\"name\":\"previousOwner\",\"type\":\"address\"},{\"indexed\":true,\"internalType\":\"address\",\"name\":\"newOwner\",\"type\":\"address\"}],\"name\":\"OwnershipTransferred\",\"type\":\"event\"},{\"anonymous\":false,\"inputs\":[{\"indexed\":true,\"internalType\":\"address\",\"name\":\"from\",\"type\":\"address\"},{\"indexed\":true,\"internalType\":\"address\",\"name\":\"to\",\"type\":\"address\"},{\"indexed\":true,\"internalType\":\"uint256\",\"name\":\"tokenId\",\"type\":\"uint256\"}],\"name\":\"Transfer\",\"type\":\"event\"},{\"inputs\":[],\"name\":\"BAYC_PROVENANCE\",\"outputs\":[{\"internalType\":\"string\",\"name\":\"\",\"type\":\"string\"}],\"stateMutability\":\"view\",\"type\":\"function\"},{\"inputs\":[],\"name\":\"MAX_APES\",\"outputs\":[{\"internalType\":\"uint256\",\"name\":\"\",\"type\":\"uint256\"}],\"stateMutability\":\"view\",\"type\":\"function\"},{\"inputs\":[],\"name\":\"REVEAL_TIMESTAMP\",\"outputs\":[{\"internalType\":\"uint256\",\"name\":\"\",\"type\":\"uint256\"}],\"stateMutability\":\"view\",\"type\":\"function\"},{\"inputs\":[],\"name\":\"apePrice\",\"outputs\":[{\"internalType\":\"uint256\",\"name\":\"\",\"type\":\"uint256\"}],\"stateMutability\":\"view\",\"type\":\"function\"},{\"inputs\":[{\"internalType\":\"address\",\"name\":\"to\",\"type\":\"address\"},{\"internalType\":\"uint256\",\"name\":\"tokenId\",\"type\":\"uint256\"}],\"name\":\"approve\",\"outputs\":[],\"stateMutability\":\"nonpayable\",\"type\":\"function\"},{\"inputs\":[{\"internalType\":\"address\",\"name\":\"owner\",\"type\":\"address\"}],\"name\":\"balanceOf\",\"outputs\":[{\"internalType\":\"uint256\",\"name\":\"\",\"type\":\"uint256\"}],\"stateMutability\":\"view\",\"type\":\"function\"},{\"inputs\":[],\"name\":\"baseURI\",\"outputs\":[{\"internalType\":\"string\",\"name\":\"\",\"type\":\"string\"}],\"stateMutability\":\"view\",\"type\":\"function\"},{\"inputs\":[],\"name\":\"emergencySetStartingIndexBlock\",\"outputs\":[],\"stateMutability\":\"nonpayable\",\"type\":\"function\"},{\"inputs\":[],\"name\":\"flipSaleState\",\"outputs\":[],\"stateMutability\":\"nonpayable\",\"type\":\"function\"},{\"inputs\":[{\"internalType\":\"uint256\",\"name\":\"tokenId\",\"type\":\"uint256\"}],\"name\":\"getApproved\",\"outputs\":[{\"internalType\":\"address\",\"name\":\"\",\"type\":\"address\"}],\"stateMutability\":\"view\",\"type\":\"function\"},{\"inputs\":[{\"internalType\":\"address\",\"name\":\"owner\",\"type\":\"address\"},{\"internalType\":\"address\",\"name\":\"operator\",\"type\":\"address\"}],\"name\":\"isApprovedForAll\",\"outputs\":[{\"internalType\":\"bool\",\"name\":\"\",\"type\":\"bool\"}],\"stateMutability\":\"view\",\"type\":\"function\"},{\"inputs\":[],\"name\":\"maxApePurchase\",\"outputs\":[{\"internalType\":\"uint256\",\"name\":\"\",\"type\":\"uint256\"}],\"stateMutability\":\"view\",\"type\":\"function\"},{\"inputs\":[{\"internalType\":\"uint256\",\"name\":\"numberOfTokens\",\"type\":\"uint256\"}],\"name\":\"mintApe\",\"outputs\":[],\"stateMutability\":\"payable\",\"type\":\"function\"},{\"inputs\":[],\"name\":\"name\",\"outputs\":[{\"internalType\":\"string\",\"name\":\"\",\"type\":\"string\"}],\"stateMutability\":\"view\",\"type\":\"function\"},{\"inputs\":[],\"name\":\"owner\",\"outputs\":[{\"internalType\":\"address\",\"name\":\"\",\"type\":\"address\"}],\"stateMutability\":\"view\",\"type\":\"function\"},{\"inputs\":[{\"internalType\":\"uint256\",\"name\":\"tokenId\",\"type\":\"uint256\"}],\"name\":\"ownerOf\",\"outputs\":[{\"internalType\":\"address\",\"name\":\"\",\"type\":\"address\"}],\"stateMutability\":\"view\",\"type\":\"function\"},{\"inputs\":[],\"name\":\"renounceOwnership\",\"outputs\":[],\"stateMutability\":\"nonpayable\",\"type\":\"function\"},{\"inputs\":[],\"name\":\"reserveApes\",\"outputs\":[],\"stateMutability\":\"nonpayable\",\"type\":\"function\"},{\"inputs\":[{\"internalType\":\"address\",\"name\":\"from\",\"type\":\"address\"},{\"internalType\":\"address\",\"name\":\"to\",\"type\":\"address\"},{\"internalType\":\"uint256\",\"name\":\"tokenId\",\"type\":\"uint256\"}],\"name\":\"safeTransferFrom\",\"outputs\":[],\"stateMutability\":\"nonpayable\",\"type\":\"function\"},{\"inputs\":[{\"internalType\":\"address\",\"name\":\"from\",\"type\":\"address\"},{\"internalType\":\"address\",\"name\":\"to\",\"type\":\"address\"},{\"internalType\":\"uint256\",\"name\":\"tokenId\",\"type\":\"uint256\"},{\"internalType\":\"bytes\",\"name\":\"_data\",\"type\":\"bytes\"}],\"name\":\"safeTransferFrom\",\"outputs\":[],\"stateMutability\":\"nonpayable\",\"type\":\"function\"},{\"inputs\":[],\"name\":\"saleIsActive\",\"outputs\":[{\"internalType\":\"bool\",\"name\":\"\",\"type\":\"bool\"}],\"stateMutability\":\"view\",\"type\":\"function\"},{\"inputs\":[{\"internalType\":\"address\",\"name\":\"operator\",\"type\":\"address\"},{\"internalType\":\"bool\",\"name\":\"approved\",\"type\":\"bool\"}],\"name\":\"setApprovalForAll\",\"outputs\":[],\"stateMutability\":\"nonpayable\",\"type\":\"function\"},{\"inputs\":[{\"internalType\":\"string\",\"name\":\"baseURI\",\"type\":\"string\"}],\"name\":\"setBaseURI\",\"outputs\":[],\"stateMutability\":\"nonpayable\",\"type\":\"function\"},{\"inputs\":[{\"internalType\":\"string\",\"name\":\"provenanceHash\",\"type\":\"string\"}],\"name\":\"setProvenanceHash\",\"outputs\":[],\"stateMutability\":\"nonpayable\",\"type\":\"function\"},{\"inputs\":[{\"internalType\":\"uint256\",\"name\":\"revealTimeStamp\",\"type\":\"uint256\"}],\"name\":\"setRevealTimestamp\",\"outputs\":[],\"stateMutability\":\"nonpayable\",\"type\":\"function\"},{\"inputs\":[],\"name\":\"setStartingIndex\",\"outputs\":[],\"stateMutability\":\"nonpayable\",\"type\":\"function\"},{\"inputs\":[],\"name\":\"startingIndex\",\"outputs\":[{\"internalType\":\"uint256\",\"name\":\"\",\"type\":\"uint256\"}],\"stateMutability\":\"view\",\"type\":\"function\"},{\"inputs\":[],\"name\":\"startingIndexBlock\",\"outputs\":[{\"internalType\":\"uint256\",\"name\":\"\",\"type\":\"uint256\"}],\"stateMutability\":\"view\",\"type\":\"function\"},{\"inputs\":[{\"internalType\":\"bytes4\",\"name\":\"interfaceId\",\"type\":\"bytes4\"}],\"name\":\"supportsInterface\",\"outputs\":[{\"internalType\":\"bool\",\"name\":\"\",\"type\":\"bool\"}],\"stateMutability\":\"view\",\"type\":\"function\"},{\"inputs\":[],\"name\":\"symbol\",\"outputs\":[{\"internalType\":\"string\",\"name\":\"\",\"type\":\"string\"}],\"stateMutability\":\"view\",\"type\":\"function\"},{\"inputs\":[{\"internalType\":\"uint256\",\"name\":\"index\",\"type\":\"uint256\"}],\"name\":\"tokenByIndex\",\"outputs\":[{\"internalType\":\"uint256\",\"name\":\"\",\"type\":\"uint256\"}],\"stateMutability\":\"view\",\"type\":\"function\"},{\"inputs\":[{\"internalType\":\"address\",\"name\":\"owner\",\"type\":\"address\"},{\"internalType\":\"uint256\",\"name\":\"index\",\"type\":\"uint256\"}],\"name\":\"tokenOfOwnerByIndex\",\"outputs\":[{\"internalType\":\"uint256\",\"name\":\"\",\"type\":\"uint256\"}],\"stateMutability\":\"view\",\"type\":\"function\"},{\"inputs\":[{\"internalType\":\"uint256\",\"name\":\"tokenId\",\"type\":\"uint256\"}],\"name\":\"tokenURI\",\"outputs\":[{\"internalType\":\"string\",\"name\":\"\",\"type\":\"string\"}],\"stateMutability\":\"view\",\"type\":\"function\"},{\"inputs\":[],\"name\":\"totalSupply\",\"outputs\":[{\"internalType\":\"uint256\",\"name\":\"\",\"type\":\"uint256\"}],\"stateMutability\":\"view\",\"type\":\"function\"},{\"inputs\":[{\"internalType\":\"address\",\"name\":\"from\",\"type\":\"address\"},{\"internalType\":\"address\",\"name\":\"to\",\"type\":\"address\"},{\"internalType\":\"uint256\",\"name\":\"tokenId\",\"type\":\"uint256\"}],\"name\":\"transferFrom\",\"outputs\":[],\"stateMutability\":\"nonpayable\",\"type\":\"function\"},{\"inputs\":[{\"internalType\":\"address\",\"name\":\"newOwner\",\"type\":\"address\"}],\"name\":\"transferOwnership\",\"outputs\":[],\"stateMutability\":\"nonpayable\",\"type\":\"function\"},{\"inputs\":[],\"name\":\"withdraw\",\"outputs\":[],\"stateMutability\":\"nonpayable\",\"type\":\"function\"}]'\n",
        "\n",
        "contractAddress = '0xBC4CA0EdA7647A8aB7C2061c2E118A18a936f13D' #Connect to remote provider\n",
        "w3 = Web3(Web3.HTTPProvider(providerURL))\n",
        "\n",
        "#Check if connected\n",
        "w3.isConnected()\n",
        "\n",
        "#Create an instance of the contract\n",
        "contractInstance = w3.eth.contract(address = contractAddress, abi = abi) \n",
        "print(contractInstance)\n",
        "\n",
        "# call the function to get totalSupply\n",
        "totalSupply = contractInstance.functions.totalSupply().call()\n",
        "print(totalSupply)\n",
        "\n",
        "#Task 1 The owner address of the contract\n",
        "ownerAdd = contractInstance.functions.owner().call()\n",
        "print(OwnerAdd)\n",
        "\n",
        "#Task 2 The total supply of tokens under this collection\n",
        "totalSupp = contractInstance.functions.totalSupply().call()\n",
        "print(totalSupp)\n",
        "\n",
        "#Task 3: The symbol of that token collection\n",
        "Symbol = contractInstance.functions.symbol().call()\n",
        "print(Symbol)\n",
        "\n",
        "#Task 4: The Token URI of Bored Ape NFT Token with id 1\n",
        "Tokenuri = contractInstance.functions.tokenURI(1).call()\n",
        "print(Tokenuri)\n",
        "\n",
        "#Task 5 = The token owner of Bored APE NFT Token with id 1\n",
        "TokenOwner1 = contractInstance.functions.ownerOf(1).call()\n",
        "print(TokenOwner1)"
      ],
      "metadata": {
        "colab": {
          "base_uri": "https://localhost:8080/"
        },
        "id": "qKfGjpmEAYQh",
        "outputId": "e0bf7888-dd6c-4be7-bca6-baedc492cf5a"
      },
      "execution_count": 21,
      "outputs": [
        {
          "output_type": "stream",
          "name": "stdout",
          "text": [
            "<web3._utils.datatypes.Contract object at 0x7efefb1de510>\n",
            "10000\n",
            "0x0000000000000000000000000000000000000000\n",
            "10000\n",
            "BAYC\n",
            "ipfs://QmeSjSinHpPnmXmspMjwiXyN6zS4E9zccariGR3jxcaWtq/1\n",
            "0x46EFbAedc92067E6d60E84ED6395099723252496\n"
          ]
        }
      ]
    }
  ]
}